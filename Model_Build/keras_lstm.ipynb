{
 "cells": [
  {
   "cell_type": "code",
   "execution_count": 1,
   "metadata": {},
   "outputs": [
    {
     "name": "stderr",
     "output_type": "stream",
     "text": [
      "Using TensorFlow backend.\n"
     ]
    }
   ],
   "source": [
    "import os\n",
    "import gc\n",
    "import pickle\n",
    "import pandas as pd\n",
    "import numpy as np\n",
    "from sklearn.model_selection import StratifiedKFold\n",
    "from sklearn.metrics import roc_auc_score\n",
    "\n",
    "import tensorflow as tf\n",
    "import keras.backend as K\n",
    "from keras.models import Sequential\n",
    "from keras.layers import Dense, LSTM, embeddings\n",
    "from keras.callbacks import EarlyStopping\n",
    "\n",
    "from utility_functions import *"
   ]
  },
  {
   "cell_type": "markdown",
   "metadata": {},
   "source": [
    "# Model: LSTM\n",
    "\n",
    "Training an LSTM model in Keras. Will be uploaded to Kaggle for use by the inference script"
   ]
  },
  {
   "cell_type": "markdown",
   "metadata": {},
   "source": [
    "## Parameters"
   ]
  },
  {
   "cell_type": "code",
   "execution_count": 2,
   "metadata": {},
   "outputs": [],
   "source": [
    "SEQUENCE_PATH = os.path.join(os.pardir, 'Data', \n",
    "                             'Sequenced_Text', 'word2vec_train.csv')\n",
    "TRAIN_PATH = os.path.join(os.pardir, 'Data', 'train.csv')\n",
    "\n",
    "EMBEDDING_PATH = os.path.join(os.pardir, 'Embedding_Build',\n",
    "                              'Trained_Embeddings', 'word2vec_keras_embedding.pkl')\n",
    "\n",
    "SAMPLE_SIZE = None"
   ]
  },
  {
   "cell_type": "code",
   "execution_count": 3,
   "metadata": {},
   "outputs": [],
   "source": [
    "# Model\n",
    "LSTM_NODES = 254\n",
    "\n",
    "# Training \n",
    "NUM_FOLDS = 3\n",
    "RANDOM_SEED = 0\n",
    "BATCH_SIZE = 2048\n",
    "MAX_EPOCHS = 5"
   ]
  },
  {
   "cell_type": "markdown",
   "metadata": {},
   "source": [
    "## Load data"
   ]
  },
  {
   "cell_type": "code",
   "execution_count": 4,
   "metadata": {},
   "outputs": [
    {
     "name": "stdout",
     "output_type": "stream",
     "text": [
      "Input data:\n",
      "\tn sequences = 1804874\n",
      "\tsequence length = 100\n"
     ]
    }
   ],
   "source": [
    "X = pd.read_csv(SEQUENCE_PATH, nrows=SAMPLE_SIZE)\n",
    "if 'Unnamed: 0' in X.columns:\n",
    "    X.drop(columns=['Unnamed: 0'], inplace=True)\n",
    "print('Input data:\\n\\tn sequences = {}\\n\\tsequence length = {}'.\n",
    "      format(X.shape[0], X.shape[1]))\n",
    "X = X.values"
   ]
  },
  {
   "cell_type": "code",
   "execution_count": 5,
   "metadata": {},
   "outputs": [
    {
     "name": "stdout",
     "output_type": "stream",
     "text": [
      "(1804874, 45)\n"
     ]
    },
    {
     "data": {
      "text/plain": [
       "14"
      ]
     },
     "execution_count": 5,
     "metadata": {},
     "output_type": "execute_result"
    }
   ],
   "source": [
    "train = pd.read_csv(TRAIN_PATH, nrows=SAMPLE_SIZE)\n",
    "print(train.shape)\n",
    "y = train.pop('target')\n",
    "del train\n",
    "gc.collect()"
   ]
  },
  {
   "cell_type": "code",
   "execution_count": 6,
   "metadata": {},
   "outputs": [],
   "source": [
    "# Make binary - right thing to do??\n",
    "y = (y >= .5).astype(int)"
   ]
  },
  {
   "cell_type": "code",
   "execution_count": 7,
   "metadata": {},
   "outputs": [],
   "source": [
    "def embedding_as_keras_layer(path):\n",
    "    embedding = pickle.load(open(path, 'rb'))\n",
    "    if isinstance(embedding, embeddings.Embedding):\n",
    "        return embedding\n",
    "    else:\n",
    "        raise TypeError('Embedding at {} can\\'t be converted to keras layer'.\n",
    "                        format(path))"
   ]
  },
  {
   "cell_type": "markdown",
   "metadata": {},
   "source": [
    "## Model build"
   ]
  },
  {
   "cell_type": "code",
   "execution_count": 8,
   "metadata": {},
   "outputs": [],
   "source": [
    "def auc(y_true, y_pred):\n",
    "    auc = tf.metrics.auc(y_true, y_pred)[1]\n",
    "    K.get_session().run(tf.local_variables_initializer())\n",
    "    return auc"
   ]
  },
  {
   "cell_type": "code",
   "execution_count": 9,
   "metadata": {},
   "outputs": [],
   "source": [
    "def create_model():\n",
    "    model = Sequential()\n",
    "    embedding = embedding_as_keras_layer(EMBEDDING_PATH)\n",
    "    model.add(embedding)\n",
    "    model.add(LSTM(units=LSTM_NODES, \n",
    "                   dropout=0.2, \n",
    "                   recurrent_dropout=0.2))\n",
    "    model.add(Dense(units=1, \n",
    "                    activation='sigmoid'))\n",
    "    model.compile(\n",
    "        loss='binary_crossentropy',\n",
    "        optimizer='nadam',\n",
    "        metrics=[auc]\n",
    "    )\n",
    "    return model"
   ]
  },
  {
   "cell_type": "markdown",
   "metadata": {},
   "source": [
    "## Train model"
   ]
  },
  {
   "cell_type": "markdown",
   "metadata": {},
   "source": [
    "Define CV strategy"
   ]
  },
  {
   "cell_type": "code",
   "execution_count": 10,
   "metadata": {},
   "outputs": [],
   "source": [
    "cv = StratifiedKFold(NUM_FOLDS, random_state=RANDOM_SEED)"
   ]
  },
  {
   "cell_type": "markdown",
   "metadata": {},
   "source": [
    "Train in CV loop"
   ]
  },
  {
   "cell_type": "code",
   "execution_count": 11,
   "metadata": {},
   "outputs": [
    {
     "name": "stdout",
     "output_type": "stream",
     "text": [
      "Fitting fold 0 of 3\n",
      "Train on 1203248 samples, validate on 601626 samples\n",
      "Epoch 1/5\n",
      "1203248/1203248 [==============================] - 870s 723us/step - loss: 0.2256 - auc: 0.6066 - val_loss: 0.1537 - val_auc: 0.8201\n",
      "Epoch 2/5\n",
      "1203248/1203248 [==============================] - 865s 719us/step - loss: 0.1478 - auc: 0.8714 - val_loss: 0.1379 - val_auc: 0.8949\n",
      "Epoch 3/5\n",
      "1203248/1203248 [==============================] - 865s 719us/step - loss: 0.1400 - auc: 0.9070 - val_loss: 0.1349 - val_auc: 0.9150\n",
      "Epoch 4/5\n",
      "1203248/1203248 [==============================] - 16977s 14ms/step - loss: 0.1363 - auc: 0.9205 - val_loss: 0.1333 - val_auc: 0.9246\n",
      "Epoch 5/5\n",
      "1203248/1203248 [==============================] - 866s 720us/step - loss: 0.1336 - auc: 0.9278 - val_loss: 0.1325 - val_auc: 0.9303\n"
     ]
    },
    {
     "name": "stderr",
     "output_type": "stream",
     "text": [
      "C:\\Users\\James\\Anaconda3\\envs\\tensorflow\\lib\\site-packages\\pandas\\core\\frame.py:4034: SettingWithCopyWarning: \n",
      "A value is trying to be set on a copy of a slice from a DataFrame\n",
      "\n",
      "See the caveats in the documentation: http://pandas.pydata.org/pandas-docs/stable/indexing.html#indexing-view-versus-copy\n",
      "  downcast=downcast, **kwargs)\n"
     ]
    },
    {
     "name": "stdout",
     "output_type": "stream",
     "text": [
      "Best score of fold 0: 0.94994\n",
      "Fitting fold 1 of 3\n",
      "Train on 1203250 samples, validate on 601624 samples\n",
      "Epoch 1/5\n",
      "1203250/1203250 [==============================] - 886s 736us/step - loss: 0.1837 - auc: 0.8006 - val_loss: 0.1444 - val_auc: 0.8981\n",
      "Epoch 2/5\n",
      "1203250/1203250 [==============================] - 8254s 7ms/step - loss: 0.1457 - auc: 0.9133 - val_loss: 0.1351 - val_auc: 0.9219\n",
      "Epoch 3/5\n",
      "1203250/1203250 [==============================] - 889s 739us/step - loss: 0.1398 - auc: 0.9271 - val_loss: 0.1360 - val_auc: 0.9303\n",
      "Epoch 4/5\n",
      "1203250/1203250 [==============================] - 890s 739us/step - loss: 0.1362 - auc: 0.9329 - val_loss: 0.1304 - val_auc: 0.9350\n",
      "Epoch 5/5\n",
      "1203250/1203250 [==============================] - 890s 739us/step - loss: 0.1336 - auc: 0.9369 - val_loss: 0.1308 - val_auc: 0.9383\n"
     ]
    },
    {
     "name": "stderr",
     "output_type": "stream",
     "text": [
      "C:\\Users\\James\\Anaconda3\\envs\\tensorflow\\lib\\site-packages\\pandas\\core\\frame.py:4034: SettingWithCopyWarning: \n",
      "A value is trying to be set on a copy of a slice from a DataFrame\n",
      "\n",
      "See the caveats in the documentation: http://pandas.pydata.org/pandas-docs/stable/indexing.html#indexing-view-versus-copy\n",
      "  downcast=downcast, **kwargs)\n"
     ]
    },
    {
     "name": "stdout",
     "output_type": "stream",
     "text": [
      "Best score of fold 1: 0.95089\n",
      "Fitting fold 2 of 3\n",
      "Train on 1203250 samples, validate on 601624 samples\n",
      "Epoch 1/5\n",
      "1203250/1203250 [==============================] - 883s 734us/step - loss: 0.1861 - auc: 0.7907 - val_loss: 0.1521 - val_auc: 0.8934\n",
      "Epoch 2/5\n",
      "1203250/1203250 [==============================] - 883s 734us/step - loss: 0.1476 - auc: 0.9085 - val_loss: 0.1411 - val_auc: 0.9175\n",
      "Epoch 3/5\n",
      "1203250/1203250 [==============================] - 885s 735us/step - loss: 0.1404 - auc: 0.9229 - val_loss: 0.1375 - val_auc: 0.9269\n",
      "Epoch 4/5\n",
      "1203250/1203250 [==============================] - 23870s 20ms/step - loss: 0.1366 - auc: 0.9299 - val_loss: 0.1365 - val_auc: 0.9322\n",
      "Epoch 5/5\n",
      "1203250/1203250 [==============================] - 931s 774us/step - loss: 0.1336 - auc: 0.9341 - val_loss: 0.1348 - val_auc: 0.9357\n"
     ]
    },
    {
     "name": "stderr",
     "output_type": "stream",
     "text": [
      "C:\\Users\\James\\Anaconda3\\envs\\tensorflow\\lib\\site-packages\\pandas\\core\\frame.py:4034: SettingWithCopyWarning: \n",
      "A value is trying to be set on a copy of a slice from a DataFrame\n",
      "\n",
      "See the caveats in the documentation: http://pandas.pydata.org/pandas-docs/stable/indexing.html#indexing-view-versus-copy\n",
      "  downcast=downcast, **kwargs)\n"
     ]
    },
    {
     "name": "stdout",
     "output_type": "stream",
     "text": [
      "Best score of fold 2: 0.94665\n"
     ]
    }
   ],
   "source": [
    "comp_metric = []\n",
    "identities = get_identities()\n",
    "\n",
    "for fold_no, (train_idx, val_idx) in enumerate(cv.split(X, y)):\n",
    "    X_train = X[train_idx]\n",
    "    X_val = X[val_idx]\n",
    "    y_train = y.iloc[train_idx]\n",
    "    y_val = y.iloc[val_idx]\n",
    "    \n",
    "    model = create_model()\n",
    "    print('Fitting fold {} of {}'.format(fold_no + 1, NUM_FOLDS))\n",
    "    result = model.fit(\n",
    "        X_train,\n",
    "        y_train,\n",
    "        validation_data=[X_val, y_val],\n",
    "        batch_size=BATCH_SIZE,\n",
    "        epochs=MAX_EPOCHS,\n",
    "        callbacks=[\n",
    "            EarlyStopping(\n",
    "                monitor='val_loss',\n",
    "                min_delta=0.001,\n",
    "                patience=3,\n",
    "                verbose=1\n",
    "            )\n",
    "        ]\n",
    "    )\n",
    "    \n",
    "    train = pd.read_csv(TRAIN_PATH, nrows=SAMPLE_SIZE)\n",
    "    train = train.iloc[val_idx, :]\n",
    "    train[identities].fillna(0, inplace=True)\n",
    "    train.loc[:, identities] = train.loc[:, identities].astype(bool)\n",
    "    \n",
    "    y_pred = model.predict(X_val)\n",
    "    bias_metrics_df = compute_bias_metrics_for_model(train, identities, y_val, y_pred)\n",
    "    final_metric = get_final_metric(bias_metrics_df, roc_auc_score(y_val, y_pred))\n",
    "    comp_metric.append(final_metric)\n",
    "    \n",
    "    print('Best score of fold {}: {:.5f}'.format(fold_no, final_metric))\n",
    "    \n",
    "    if fold_no < NUM_FOLDS - 1:\n",
    "        K.clear_session()\n",
    "        del model, train\n",
    "        gc.collect()"
   ]
  },
  {
   "cell_type": "code",
   "execution_count": 12,
   "metadata": {},
   "outputs": [
    {
     "data": {
      "text/plain": [
       "{'val_loss': [0.15212768617153372,\n",
       "  0.1410643961000951,\n",
       "  0.13747609232054026,\n",
       "  0.13653970084635736,\n",
       "  0.13483899799057975],\n",
       " 'val_auc': [0.893425086219138,\n",
       "  0.9174960886669792,\n",
       "  0.9269087519797613,\n",
       "  0.9321841462492941,\n",
       "  0.9356987246816743],\n",
       " 'loss': [0.18613842613412712,\n",
       "  0.14758948411410003,\n",
       "  0.14035621128180356,\n",
       "  0.1365640114120057,\n",
       "  0.1336347901522556],\n",
       " 'auc': [0.7906602386925985,\n",
       "  0.9085386226547252,\n",
       "  0.922916608734436,\n",
       "  0.9299130936254465,\n",
       "  0.9340788901908814]}"
      ]
     },
     "execution_count": 12,
     "metadata": {},
     "output_type": "execute_result"
    }
   ],
   "source": [
    "result.history"
   ]
  },
  {
   "cell_type": "code",
   "execution_count": 15,
   "metadata": {},
   "outputs": [],
   "source": [
    "pickle.dump(model, open('Trained_Models/lstm_notebook_model.pkl', 'wb'))"
   ]
  },
  {
   "cell_type": "code",
   "execution_count": null,
   "metadata": {},
   "outputs": [],
   "source": []
  }
 ],
 "metadata": {
  "kernelspec": {
   "display_name": "Python (tensorflow)",
   "language": "python",
   "name": "tensorflow"
  },
  "language_info": {
   "codemirror_mode": {
    "name": "ipython",
    "version": 3
   },
   "file_extension": ".py",
   "mimetype": "text/x-python",
   "name": "python",
   "nbconvert_exporter": "python",
   "pygments_lexer": "ipython3",
   "version": "3.6.8"
  }
 },
 "nbformat": 4,
 "nbformat_minor": 2
}
